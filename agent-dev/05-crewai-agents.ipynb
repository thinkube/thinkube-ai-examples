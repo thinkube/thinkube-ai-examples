{
 "cells": [
  {
   "cell_type": "markdown",
   "metadata": {},
   "source": [
    "![Thinkube AI Lab](../icons/tk_full_logo.svg)\n",
    "\n",
    "# CrewAI Multi-Agent Systems 👥\n",
    "\n",
    "Build collaborative agent teams with CrewAI:\n",
    "- Agent roles and goals\n",
    "- Task definition and delegation\n",
    "- Agent collaboration patterns\n",
    "- Crew execution and orchestration\n",
    "- Review and iterate on outputs"
   ]
  },
  {
   "cell_type": "markdown",
   "metadata": {},
   "source": [
    "## Introduction to CrewAI\n",
    "\n",
    "CrewAI provides high-level abstractions for multi-agent systems:\n",
    "\n",
    "- **Agents**: Autonomous units with roles and goals\n",
    "- **Tasks**: Work items with descriptions and expected outputs\n",
    "- **Crew**: Orchestrates agents working together\n",
    "- **Process**: Sequential, hierarchical, or consensual\n",
    "\n",
    "Perfect for complex workflows requiring specialized expertise!"
   ]
  },
  {
   "cell_type": "markdown",
   "metadata": {},
   "source": [
    "## Setup CrewAI with LiteLLM"
   ]
  },
  {
   "cell_type": "code",
   "execution_count": null,
   "metadata": {},
   "outputs": [],
   "source": [
    "# Setup CrewAI\n",
    "from crewai import Agent, Task, Crew, Process\n",
    "from langchain_openai import ChatOpenAI\n",
    "import os\n",
    "\n",
    "# TODO: Load environment variables\n",
    "# TODO: Create ChatOpenAI instance with LiteLLM URL\n",
    "# TODO: Test connection"
   ]
  },
  {
   "cell_type": "markdown",
   "metadata": {},
   "source": [
    "## Define Agents with Roles\n",
    "\n",
    "Create specialized agents:"
   ]
  },
  {
   "cell_type": "code",
   "execution_count": null,
   "metadata": {},
   "outputs": [],
   "source": [
    "# Create specialized agents\n",
    "\n",
    "# TODO: Define Researcher agent\n",
    "#       - Role: Research specialist\n",
    "#       - Goal: Gather accurate information\n",
    "#       - Backstory: Expert researcher\n",
    "\n",
    "# TODO: Define Writer agent  \n",
    "#       - Role: Content writer\n",
    "#       - Goal: Create engaging content\n",
    "#       - Backstory: Professional writer\n",
    "\n",
    "# TODO: Define Editor agent\n",
    "#       - Role: Quality editor\n",
    "#       - Goal: Ensure quality and accuracy\n",
    "#       - Backstory: Meticulous editor"
   ]
  },
  {
   "cell_type": "markdown",
   "metadata": {},
   "source": [
    "## Create Tasks\n",
    "\n",
    "Define what each agent should do:"
   ]
  },
  {
   "cell_type": "code",
   "execution_count": null,
   "metadata": {},
   "outputs": [],
   "source": [
    "# Define tasks for agents\n",
    "\n",
    "# TODO: Create research task\n",
    "#       - Description: Research topic thoroughly\n",
    "#       - Expected output: Key facts and insights\n",
    "#       - Agent: researcher\n",
    "\n",
    "# TODO: Create writing task\n",
    "#       - Description: Write article based on research\n",
    "#       - Expected output: Draft article\n",
    "#       - Agent: writer\n",
    "#       - Context: research task output\n",
    "\n",
    "# TODO: Create editing task\n",
    "#       - Description: Edit and improve article\n",
    "#       - Expected output: Final polished article\n",
    "#       - Agent: editor\n",
    "#       - Context: writing task output"
   ]
  },
  {
   "cell_type": "markdown",
   "metadata": {},
   "source": [
    "## Create and Execute Crew\n",
    "\n",
    "Orchestrate the agents:"
   ]
  },
  {
   "cell_type": "code",
   "execution_count": null,
   "metadata": {},
   "outputs": [],
   "source": [
    "# Create crew and execute\n",
    "\n",
    "# TODO: Create Crew with agents and tasks\n",
    "# TODO: Set process type (Sequential)\n",
    "# TODO: Enable verbose logging\n",
    "# TODO: Execute crew.kickoff() with input\n",
    "# TODO: Display execution progress\n",
    "# TODO: Show final result"
   ]
  },
  {
   "cell_type": "markdown",
   "metadata": {},
   "source": [
    "## Hierarchical Process\n",
    "\n",
    "Manager agent delegates to workers:"
   ]
  },
  {
   "cell_type": "code",
   "execution_count": null,
   "metadata": {},
   "outputs": [],
   "source": [
    "# Hierarchical crew with manager\n",
    "\n",
    "# TODO: Define manager agent\n",
    "# TODO: Define worker agents\n",
    "# TODO: Create crew with hierarchical process\n",
    "# TODO: Manager decides task distribution\n",
    "# TODO: Execute and show delegation flow"
   ]
  },
  {
   "cell_type": "markdown",
   "metadata": {},
   "source": [
    "## Agent Tools\n",
    "\n",
    "Give agents capabilities:"
   ]
  },
  {
   "cell_type": "code",
   "execution_count": null,
   "metadata": {},
   "outputs": [],
   "source": [
    "# Equip agents with tools\n",
    "from crewai_tools import tool\n",
    "\n",
    "# TODO: Define custom tool (e.g., search tool)\n",
    "# TODO: Add tool to agent\n",
    "# TODO: Create task that requires tool usage\n",
    "# TODO: Execute and show tool usage"
   ]
  },
  {
   "cell_type": "markdown",
   "metadata": {},
   "source": [
    "## Memory and Context\n",
    "\n",
    "Agents remember previous interactions:"
   ]
  },
  {
   "cell_type": "code",
   "execution_count": null,
   "metadata": {},
   "outputs": [],
   "source": [
    "# Enable agent memory\n",
    "\n",
    "# TODO: Enable memory in crew\n",
    "# TODO: Run multiple iterations\n",
    "# TODO: Show how agents use context from previous runs\n",
    "# TODO: Display memory contents"
   ]
  },
  {
   "cell_type": "markdown",
   "metadata": {},
   "source": [
    "## Monitoring with Langfuse\n",
    "\n",
    "Track crew execution:"
   ]
  },
  {
   "cell_type": "code",
   "execution_count": null,
   "metadata": {},
   "outputs": [],
   "source": [
    "# Integrate Langfuse tracking\n",
    "from langfuse import Langfuse\n",
    "\n",
    "# TODO: Setup Langfuse client\n",
    "# TODO: Create trace for crew execution\n",
    "# TODO: Log each agent's work as spans\n",
    "# TODO: Track costs and latency\n",
    "# TODO: Display trace link"
   ]
  },
  {
   "cell_type": "markdown",
   "metadata": {},
   "source": [
    "## Real-World Example: Research Team\n",
    "\n",
    "Complete multi-agent workflow:"
   ]
  },
  {
   "cell_type": "code",
   "execution_count": null,
   "metadata": {},
   "outputs": [],
   "source": [
    "# Research team crew\n",
    "\n",
    "# TODO: Define data analyst agent\n",
    "# TODO: Define visualization specialist agent\n",
    "# TODO: Define insight extractor agent\n",
    "# TODO: Create tasks for analysis pipeline\n",
    "# TODO: Execute crew on sample data\n",
    "# TODO: Display final insights and visualizations"
   ]
  },
  {
   "cell_type": "markdown",
   "metadata": {},
   "source": [
    "## Best Practices\n",
    "\n",
    "- ✅ Define clear roles and goals for each agent\n",
    "- ✅ Make expected outputs specific and measurable\n",
    "- ✅ Use context to pass information between tasks\n",
    "- ✅ Enable memory for complex workflows\n",
    "- ✅ Give agents appropriate tools\n",
    "- ✅ Monitor costs and performance\n",
    "- ✅ Test individual agents before combining\n",
    "- ✅ Use verbose mode for debugging"
   ]
  },
  {
   "cell_type": "markdown",
   "metadata": {},
   "source": [
    "## Next Steps\n",
    "\n",
    "Continue with:\n",
    "- **06-production-deployment.ipynb** - Deploy agent systems to production"
   ]
  }
 ],
 "metadata": {
  "kernelspec": {
   "display_name": "Python 3",
   "language": "python",
   "name": "python3"
  },
  "language_info": {
   "codemirror_mode": {
    "name": "ipython",
    "version": 3
   },
   "file_extension": ".py",
   "mimetype": "text/x-python",
   "name": "python",
   "nbconvert_exporter": "python",
   "pygments_lexer": "ipython3",
   "version": "3.10.0"
  }
 },
 "nbformat": 4,
 "nbformat_minor": 4
}
