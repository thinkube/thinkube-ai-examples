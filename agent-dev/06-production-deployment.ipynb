{
 "cells": [
  {
   "cell_type": "markdown",
   "metadata": {},
   "source": [
    "![Thinkube AI Lab](../icons/tk_full_logo.svg)\n",
    "\n",
    "# Production Agent Deployment 🚀\n",
    "\n",
    "Deploy agent systems to production:\n",
    "- FastAPI integration\n",
    "- Langfuse tracing\n",
    "- Error handling and resilience\n",
    "- Rate limiting and quotas\n",
    "- Kubernetes deployment\n",
    "- Health checks and monitoring"
   ]
  },
  {
   "cell_type": "markdown",
   "metadata": {},
   "source": [
    "## Production Considerations\n",
    "\n",
    "Moving agents to production requires:\n",
    "\n",
    "- **API Layer**: Expose agents via REST API\n",
    "- **Observability**: Track all agent interactions\n",
    "- **Error Handling**: Graceful failures and retries\n",
    "- **Rate Limiting**: Protect against abuse\n",
    "- **Async Execution**: Handle long-running tasks\n",
    "- **Scalability**: Horizontal scaling\n",
    "- **Security**: Authentication and authorization"
   ]
  },
  {
   "cell_type": "markdown",
   "metadata": {},
   "source": [
    "## FastAPI Integration\n",
    "\n",
    "Create API endpoints for agents:"
   ]
  },
  {
   "cell_type": "code",
   "execution_count": null,
   "metadata": {},
   "outputs": [],
   "source": [
    "# FastAPI agent endpoint\n",
    "from fastapi import FastAPI, BackgroundTasks\n",
    "from pydantic import BaseModel\n",
    "\n",
    "# TODO: Define request model\n",
    "# TODO: Define response model  \n",
    "# TODO: Create FastAPI app\n",
    "# TODO: Create endpoint that runs agent\n",
    "# TODO: Add async execution for long tasks\n",
    "# TODO: Return task ID for status checking"
   ]
  },
  {
   "cell_type": "markdown",
   "metadata": {},
   "source": [
    "## Langfuse Integration\n",
    "\n",
    "Full observability in production:"
   ]
  },
  {
   "cell_type": "code",
   "execution_count": null,
   "metadata": {},
   "outputs": [],
   "source": [
    "# Add Langfuse tracing to API\n",
    "from langfuse import Langfuse\n",
    "from langfuse.decorators import observe\n",
    "\n",
    "# TODO: Setup Langfuse client\n",
    "# TODO: Decorate agent functions with @observe\n",
    "# TODO: Create trace for each API request\n",
    "# TODO: Log user ID and request metadata\n",
    "# TODO: Track costs per user\n",
    "# TODO: Display trace link in response"
   ]
  },
  {
   "cell_type": "markdown",
   "metadata": {},
   "source": [
    "## Error Handling\n",
    "\n",
    "Robust error handling patterns:"
   ]
  },
  {
   "cell_type": "code",
   "execution_count": null,
   "metadata": {},
   "outputs": [],
   "source": [
    "# Error handling and retries\n",
    "from tenacity import retry, stop_after_attempt, wait_exponential\n",
    "\n",
    "# TODO: Add retry decorator to agent calls\n",
    "# TODO: Handle specific exceptions (rate limits, timeouts)\n",
    "# TODO: Implement circuit breaker pattern\n",
    "# TODO: Log errors to Langfuse\n",
    "# TODO: Return user-friendly error messages"
   ]
  },
  {
   "cell_type": "markdown",
   "metadata": {},
   "source": [
    "## Rate Limiting\n",
    "\n",
    "Protect your API:"
   ]
  },
  {
   "cell_type": "code",
   "execution_count": null,
   "metadata": {},
   "outputs": [],
   "source": [
    "# Rate limiting with Valkey\n",
    "import redis\n",
    "from fastapi import HTTPException\n",
    "\n",
    "# TODO: Connect to Valkey\n",
    "# TODO: Implement sliding window rate limiter\n",
    "# TODO: Track requests per user\n",
    "# TODO: Raise HTTPException when limit exceeded\n",
    "# TODO: Add rate limit headers to response"
   ]
  },
  {
   "cell_type": "markdown",
   "metadata": {},
   "source": [
    "## Async Task Queue\n",
    "\n",
    "Handle long-running agent tasks:"
   ]
  },
  {
   "cell_type": "code",
   "execution_count": null,
   "metadata": {},
   "outputs": [],
   "source": [
    "# Async task processing with Celery/NATS\n",
    "\n",
    "# TODO: Define task queue using NATS\n",
    "# TODO: Submit agent task to queue\n",
    "# TODO: Return task ID immediately\n",
    "# TODO: Create status endpoint\n",
    "# TODO: Store results in PostgreSQL or Valkey\n",
    "# TODO: Implement result retrieval"
   ]
  },
  {
   "cell_type": "markdown",
   "metadata": {},
   "source": [
    "## Kubernetes Deployment\n",
    "\n",
    "Deploy as a Kubernetes service:"
   ]
  },
  {
   "cell_type": "code",
   "execution_count": null,
   "metadata": {},
   "outputs": [],
   "source": [
    "# Kubernetes manifest example\n",
    "\n",
    "# TODO: Show Dockerfile for agent API\n",
    "# TODO: Define Deployment manifest\n",
    "# TODO: Add resource limits (CPU, memory)\n",
    "# TODO: Configure environment variables\n",
    "# TODO: Add liveness and readiness probes\n",
    "# TODO: Create Service and Ingress"
   ]
  },
  {
   "cell_type": "markdown",
   "metadata": {},
   "source": [
    "## Health Checks\n",
    "\n",
    "Monitor service health:"
   ]
  },
  {
   "cell_type": "code",
   "execution_count": null,
   "metadata": {},
   "outputs": [],
   "source": [
    "# Health check endpoints\n",
    "\n",
    "# TODO: Create /health endpoint (liveness)\n",
    "# TODO: Create /ready endpoint (readiness)\n",
    "# TODO: Check LLM connectivity\n",
    "# TODO: Check vector database connectivity\n",
    "# TODO: Check NATS connectivity\n",
    "# TODO: Return detailed health status"
   ]
  },
  {
   "cell_type": "markdown",
   "metadata": {},
   "source": [
    "## Monitoring and Alerting\n",
    "\n",
    "Track metrics in production:"
   ]
  },
  {
   "cell_type": "code",
   "execution_count": null,
   "metadata": {},
   "outputs": [],
   "source": [
    "# Prometheus metrics\n",
    "from prometheus_client import Counter, Histogram\n",
    "\n",
    "# TODO: Define metrics (request count, latency, errors)\n",
    "# TODO: Instrument agent endpoints\n",
    "# TODO: Track agent execution time\n",
    "# TODO: Track LLM token usage\n",
    "# TODO: Expose /metrics endpoint\n",
    "# TODO: Configure alerts in Prometheus"
   ]
  },
  {
   "cell_type": "markdown",
   "metadata": {},
   "source": [
    "## Security Considerations\n",
    "\n",
    "Secure your agent API:"
   ]
  },
  {
   "cell_type": "code",
   "execution_count": null,
   "metadata": {},
   "outputs": [],
   "source": [
    "# Authentication and authorization\n",
    "\n",
    "# TODO: Add Keycloak OAuth2 authentication\n",
    "# TODO: Validate JWT tokens\n",
    "# TODO: Implement RBAC for agent access\n",
    "# TODO: Sanitize user inputs\n",
    "# TODO: Add CORS configuration\n",
    "# TODO: Enable HTTPS only"
   ]
  },
  {
   "cell_type": "markdown",
   "metadata": {},
   "source": [
    "## Cost Tracking\n",
    "\n",
    "Monitor and control costs:"
   ]
  },
  {
   "cell_type": "code",
   "execution_count": null,
   "metadata": {},
   "outputs": [],
   "source": [
    "# Cost tracking and budgets\n",
    "\n",
    "# TODO: Track token usage per user\n",
    "# TODO: Calculate costs using Langfuse\n",
    "# TODO: Set user budgets in database\n",
    "# TODO: Check budget before agent execution\n",
    "# TODO: Send alerts when approaching limits\n",
    "# TODO: Display cost dashboard"
   ]
  },
  {
   "cell_type": "markdown",
   "metadata": {},
   "source": [
    "## Testing in Production\n",
    "\n",
    "Validate deployments:"
   ]
  },
  {
   "cell_type": "code",
   "execution_count": null,
   "metadata": {},
   "outputs": [],
   "source": [
    "# Integration tests\n",
    "\n",
    "# TODO: Create test suite for API endpoints\n",
    "# TODO: Test agent workflows end-to-end\n",
    "# TODO: Test error scenarios\n",
    "# TODO: Test rate limiting\n",
    "# TODO: Load testing with locust\n",
    "# TODO: Measure p95/p99 latencies"
   ]
  },
  {
   "cell_type": "markdown",
   "metadata": {},
   "source": [
    "## Best Practices\n",
    "\n",
    "- ✅ Always use async execution for long tasks\n",
    "- ✅ Implement comprehensive error handling\n",
    "- ✅ Add observability from day one\n",
    "- ✅ Set resource limits in Kubernetes\n",
    "- ✅ Use circuit breakers for external services\n",
    "- ✅ Implement graceful shutdown\n",
    "- ✅ Version your agent API\n",
    "- ✅ Monitor costs continuously\n",
    "- ✅ Test failure scenarios\n",
    "- ✅ Document API thoroughly"
   ]
  },
  {
   "cell_type": "markdown",
   "metadata": {},
   "source": [
    "## Resources\n",
    "\n",
    "- Thinkube Documentation: https://docs.thinkube.com\n",
    "- Langfuse Docs: https://langfuse.com/docs\n",
    "- FastAPI Docs: https://fastapi.tiangolo.com"
   ]
  }
 ],
 "metadata": {
  "kernelspec": {
   "display_name": "Python 3",
   "language": "python",
   "name": "python3"
  },
  "language_info": {
   "codemirror_mode": {
    "name": "ipython",
    "version": 3
   },
   "file_extension": ".py",
   "mimetype": "text/x-python",
   "name": "python",
   "nbconvert_exporter": "python",
   "pygments_lexer": "ipython3",
   "version": "3.10.0"
  }
 },
 "nbformat": 4,
 "nbformat_minor": 4
}
