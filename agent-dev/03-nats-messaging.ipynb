{
 "cells": [
  {
   "cell_type": "markdown",
   "metadata": {},
   "source": [
    "![Thinkube AI Lab](../icons/tk_full_logo.svg)\n",
    "\n",
    "# NATS Messaging for Multi-Agent Systems 📨\n",
    "\n",
    "Learn asynchronous messaging for agent communication:\n",
    "- NATS pub/sub patterns\n",
    "- Request/reply messaging\n",
    "- Queue groups for load balancing\n",
    "- Stream processing\n",
    "- Multi-agent coordination"
   ]
  },
  {
   "cell_type": "markdown",
   "metadata": {},
   "source": [
    "## Why NATS for Agents?\n",
    "\n",
    "NATS is perfect for multi-agent systems:\n",
    "\n",
    "- **Decoupled**: Agents don't need to know about each other\n",
    "- **Scalable**: Add agents dynamically\n",
    "- **Fast**: Sub-millisecond latency\n",
    "- **Patterns**: Pub/sub, request/reply, streaming\n",
    "- **Resilient**: Built-in failover and persistence\n",
    "\n",
    "Thinkube provides NATS for agent orchestration."
   ]
  },
  {
   "cell_type": "markdown",
   "metadata": {},
   "source": [
    "## Connect to NATS\n",
    "\n",
    "Setup NATS client:"
   ]
  },
  {
   "cell_type": "code",
   "execution_count": null,
   "metadata": {},
   "outputs": [],
   "source": [
    "# Connect to NATS server\n",
    "from nats.aio.client import Client as NATS\n",
    "import asyncio\n",
    "import os\n",
    "\n",
    "# TODO: Load NATS_URL from environment\n",
    "# TODO: Create NATS client\n",
    "# TODO: Connect to server\n",
    "# TODO: Display connection status"
   ]
  },
  {
   "cell_type": "markdown",
   "metadata": {},
   "source": [
    "## Publish/Subscribe Pattern\n",
    "\n",
    "Basic pub/sub messaging:"
   ]
  },
  {
   "cell_type": "code",
   "execution_count": null,
   "metadata": {},
   "outputs": [],
   "source": [
    "# Pub/sub example\n",
    "\n",
    "# TODO: Define async subscriber function\n",
    "# TODO: Subscribe to subject (e.g., \"agents.tasks\")\n",
    "# TODO: Define message handler\n",
    "# TODO: Publish messages to subject\n",
    "# TODO: Display received messages\n",
    "# TODO: Clean up and close connection"
   ]
  },
  {
   "cell_type": "markdown",
   "metadata": {},
   "source": [
    "## Subject Hierarchies and Wildcards\n",
    "\n",
    "Organize messages with subjects:"
   ]
  },
  {
   "cell_type": "code",
   "execution_count": null,
   "metadata": {},
   "outputs": [],
   "source": [
    "# Subject patterns\n",
    "\n",
    "# TODO: Subscribe to \"agents.*.status\" (wildcard)\n",
    "# TODO: Subscribe to \"agents.>\" (matches all)\n",
    "# TODO: Publish to \"agents.worker1.status\"\n",
    "# TODO: Publish to \"agents.worker2.status\"\n",
    "# TODO: Publish to \"agents.coordinator.command\"\n",
    "# TODO: Show which subscriptions receive which messages"
   ]
  },
  {
   "cell_type": "markdown",
   "metadata": {},
   "source": [
    "## Request/Reply Pattern\n",
    "\n",
    "Synchronous-style communication:"
   ]
  },
  {
   "cell_type": "code",
   "execution_count": null,
   "metadata": {},
   "outputs": [],
   "source": [
    "# Request/reply example\n",
    "\n",
    "# TODO: Create responder function (subscribes and replies)\n",
    "# TODO: Create requester function (sends request, awaits reply)\n",
    "# TODO: Example: Ask agent to process task\n",
    "# TODO: Display request and response\n",
    "# TODO: Show timeout handling"
   ]
  },
  {
   "cell_type": "markdown",
   "metadata": {},
   "source": [
    "## Queue Groups for Load Balancing\n",
    "\n",
    "Distribute work across multiple agents:"
   ]
  },
  {
   "cell_type": "code",
   "execution_count": null,
   "metadata": {},
   "outputs": [],
   "source": [
    "# Queue group example\n",
    "\n",
    "# TODO: Create multiple subscribers with same queue group\n",
    "# TODO: Publish multiple tasks\n",
    "# TODO: Show how work is distributed\n",
    "# TODO: Each agent processes different messages\n",
    "# TODO: Display load distribution"
   ]
  },
  {
   "cell_type": "markdown",
   "metadata": {},
   "source": [
    "## JetStream: Persistent Messaging\n",
    "\n",
    "Reliable message delivery with persistence:"
   ]
  },
  {
   "cell_type": "code",
   "execution_count": null,
   "metadata": {},
   "outputs": [],
   "source": [
    "# JetStream example\n",
    "\n",
    "# TODO: Get JetStream context\n",
    "# TODO: Create stream for agent tasks\n",
    "# TODO: Publish messages to stream\n",
    "# TODO: Create durable consumer\n",
    "# TODO: Consume messages with acknowledgment\n",
    "# TODO: Show message replay capability"
   ]
  },
  {
   "cell_type": "markdown",
   "metadata": {},
   "source": [
    "## Multi-Agent Coordination Example\n",
    "\n",
    "Complete workflow with multiple agents:"
   ]
  },
  {
   "cell_type": "code",
   "execution_count": null,
   "metadata": {},
   "outputs": [],
   "source": [
    "# Multi-agent workflow\n",
    "\n",
    "# TODO: Define Coordinator agent (publishes tasks)\n",
    "# TODO: Define Worker agents (subscribe to tasks)\n",
    "# TODO: Define Reporter agent (collects results)\n",
    "# TODO: Implement task distribution\n",
    "# TODO: Implement result aggregation\n",
    "# TODO: Run complete workflow\n",
    "# TODO: Display timeline of agent interactions"
   ]
  },
  {
   "cell_type": "markdown",
   "metadata": {},
   "source": [
    "## Error Handling and Resilience\n",
    "\n",
    "Handle failures gracefully:"
   ]
  },
  {
   "cell_type": "code",
   "execution_count": null,
   "metadata": {},
   "outputs": [],
   "source": [
    "# Error handling patterns\n",
    "\n",
    "# TODO: Handle connection failures\n",
    "# TODO: Implement retry logic\n",
    "# TODO: Dead letter queue for failed messages\n",
    "# TODO: Timeouts and circuit breakers\n",
    "# TODO: Graceful shutdown"
   ]
  },
  {
   "cell_type": "markdown",
   "metadata": {},
   "source": [
    "## Best Practices\n",
    "\n",
    "- ✅ Use meaningful subject hierarchies\n",
    "- ✅ Add JSON schema validation for messages\n",
    "- ✅ Implement idempotent message handlers\n",
    "- ✅ Use queue groups for scalability\n",
    "- ✅ Enable persistence for critical messages\n",
    "- ✅ Monitor message flow and latency\n",
    "- ✅ Handle disconnections gracefully"
   ]
  },
  {
   "cell_type": "markdown",
   "metadata": {},
   "source": [
    "## Next Steps\n",
    "\n",
    "Continue with:\n",
    "- **04-rag-pipeline.ipynb** - Build RAG systems with vector search\n",
    "- **05-crewai-agents.ipynb** - High-level agent orchestration\n",
    "- **06-production-deployment.ipynb** - Deploy agent systems"
   ]
  }
 ],
 "metadata": {
  "kernelspec": {
   "display_name": "Python 3",
   "language": "python",
   "name": "python3"
  },
  "language_info": {
   "codemirror_mode": {
    "name": "ipython",
    "version": 3
   },
   "file_extension": ".py",
   "mimetype": "text/x-python",
   "name": "python",
   "nbconvert_exporter": "python",
   "pygments_lexer": "ipython3",
   "version": "3.10.0"
  }
 },
 "nbformat": 4,
 "nbformat_minor": 4
}
