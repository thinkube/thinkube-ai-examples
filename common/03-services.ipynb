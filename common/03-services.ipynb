{
 "cells": [
  {
   "cell_type": "markdown",
   "metadata": {},
   "source": [
    "![Thinkube AI Lab](../icons/tk_full_logo.svg)\n",
    "\n",
    "# Service Connections 🔌\n",
    "\n",
    "Connect to Thinkube platform services:\n",
    "- PostgreSQL database\n",
    "- Valkey (Redis) cache\n",
    "- NATS message broker\n",
    "- Qdrant vector database"
   ]
  },
  {
   "cell_type": "markdown",
   "metadata": {},
   "source": [
    "## PostgreSQL Connection\n",
    "\n",
    "Multiple ways to connect depending on your needs."
   ]
  },
  {
   "cell_type": "code",
   "execution_count": null,
   "metadata": {},
   "outputs": [],
   "source": [
    "# Method 1: psycopg2 (low-level)\n",
    "import os\n",
    "import psycopg2\n",
    "\n",
    "# TODO: Create connection using environment variables\n",
    "# TODO: Execute SELECT current_database(), current_user\n",
    "# TODO: Display database and user\n",
    "# TODO: Close cursor and connection"
   ]
  },
  {
   "cell_type": "markdown",
   "metadata": {},
   "source": [
    "## SQLAlchemy (ORM) - Recommended\n",
    "\n",
    "Better for data science workflows with pandas integration."
   ]
  },
  {
   "cell_type": "code",
   "execution_count": null,
   "metadata": {},
   "outputs": [],
   "source": [
    "# SQLAlchemy connection\n",
    "from sqlalchemy import create_engine\n",
    "import pandas as pd\n",
    "\n",
    "# TODO: Build connection string from env vars\n",
    "# TODO: Create SQLAlchemy engine\n",
    "# TODO: Test with pandas.read_sql()\n",
    "# TODO: Display PostgreSQL version"
   ]
  },
  {
   "cell_type": "markdown",
   "metadata": {},
   "source": [
    "## Create a Table and Insert Data"
   ]
  },
  {
   "cell_type": "code",
   "execution_count": null,
   "metadata": {},
   "outputs": [],
   "source": [
    "# Create and populate table\n",
    "import pandas as pd\n",
    "import numpy as np\n",
    "\n",
    "# TODO: Create sample dataframe with id, name, score, created_at\n",
    "# TODO: Write to PostgreSQL using to_sql()\n",
    "# TODO: Use user-specific table name\n",
    "# TODO: Display table creation status"
   ]
  },
  {
   "cell_type": "markdown",
   "metadata": {},
   "source": [
    "## Query Data with Pandas"
   ]
  },
  {
   "cell_type": "code",
   "execution_count": null,
   "metadata": {},
   "outputs": [],
   "source": [
    "# Query data\n",
    "\n",
    "# TODO: Read data with WHERE clause (score > 80)\n",
    "# TODO: Order by score DESC\n",
    "# TODO: Limit to top 10\n",
    "# TODO: Display results"
   ]
  },
  {
   "cell_type": "markdown",
   "metadata": {},
   "source": [
    "## Valkey (Redis-compatible cache)\n",
    "\n",
    "Great for caching, session storage, and fast key-value access."
   ]
  },
  {
   "cell_type": "code",
   "execution_count": null,
   "metadata": {},
   "outputs": [],
   "source": [
    "# Connect to Valkey\n",
    "import redis\n",
    "\n",
    "# TODO: Create Redis client with env vars\n",
    "# TODO: Test connection with ping()\n",
    "# TODO: Display connection status"
   ]
  },
  {
   "cell_type": "markdown",
   "metadata": {},
   "source": [
    "## Cache Operations\n",
    "\n",
    "Common caching patterns:"
   ]
  },
  {
   "cell_type": "code",
   "execution_count": null,
   "metadata": {},
   "outputs": [],
   "source": [
    "# Basic cache operations\n",
    "\n",
    "# TODO: Set key-value pairs\n",
    "# TODO: Get values\n",
    "# TODO: Set with expiration (TTL)\n",
    "# TODO: Display cached values"
   ]
  },
  {
   "cell_type": "markdown",
   "metadata": {},
   "source": [
    "## Caching Database Queries\n",
    "\n",
    "Speed up repeated queries:"
   ]
  },
  {
   "cell_type": "code",
   "execution_count": null,
   "metadata": {},
   "outputs": [],
   "source": [
    "# Cache database queries\n",
    "import time\n",
    "import json\n",
    "\n",
    "# TODO: Define get_high_scores() function with caching\n",
    "# TODO: Check cache first (cache key: high_scores:{min_score})\n",
    "# TODO: Query database on cache miss\n",
    "# TODO: Cache results for 5 minutes\n",
    "# TODO: Measure and compare query times"
   ]
  },
  {
   "cell_type": "markdown",
   "metadata": {},
   "source": [
    "## NATS Message Broker\n",
    "\n",
    "For asynchronous messaging and pub/sub patterns. Great for multi-agent communication!"
   ]
  },
  {
   "cell_type": "code",
   "execution_count": null,
   "metadata": {},
   "outputs": [],
   "source": [
    "# NATS pub/sub example\n",
    "from nats.aio.client import Client as NATS\n",
    "import asyncio\n",
    "\n",
    "# TODO: Define async nats_example() function\n",
    "# TODO: Connect to NATS server\n",
    "# TODO: Subscribe to subjects with wildcards (test.>)\n",
    "# TODO: Publish test messages\n",
    "# TODO: Display received messages\n",
    "# TODO: Run with await nats_example()"
   ]
  },
  {
   "cell_type": "markdown",
   "metadata": {},
   "source": [
    "## Qdrant Vector Database\n",
    "\n",
    "For storing and searching embeddings (RAG, semantic search)."
   ]
  },
  {
   "cell_type": "code",
   "execution_count": null,
   "metadata": {},
   "outputs": [],
   "source": [
    "# Connect to Qdrant\n",
    "from qdrant_client import QdrantClient\n",
    "\n",
    "# TODO: Create Qdrant client\n",
    "# TODO: List collections\n",
    "# TODO: Display connection status"
   ]
  },
  {
   "cell_type": "markdown",
   "metadata": {},
   "source": [
    "## Clean Up"
   ]
  },
  {
   "cell_type": "code",
   "execution_count": null,
   "metadata": {},
   "outputs": [],
   "source": [
    "# Clean up test resources\n",
    "from sqlalchemy import text\n",
    "\n",
    "# TODO: Drop test table from PostgreSQL\n",
    "# TODO: Clear cache keys from Valkey\n",
    "# TODO: Display cleanup status"
   ]
  },
  {
   "cell_type": "markdown",
   "metadata": {},
   "source": [
    "## Next Steps\n",
    "\n",
    "Continue with:\n",
    "- **04-mlops.ipynb** - MLflow and Langfuse for experiment tracking\n",
    "- **agent-dev/** - Build multi-agent systems with LangGraph and NATS\n",
    "- **ml-gpu/** - GPU-accelerated training workflows"
   ]
  }
 ],
 "metadata": {
  "kernelspec": {
   "display_name": "Python 3",
   "language": "python",
   "name": "python3"
  },
  "language_info": {
   "codemirror_mode": {
    "name": "ipython",
    "version": 3
   },
   "file_extension": ".py",
   "mimetype": "text/x-python",
   "name": "python",
   "nbconvert_exporter": "python",
   "pygments_lexer": "ipython3",
   "version": "3.10.0"
  }
 },
 "nbformat": 4,
 "nbformat_minor": 4
}
