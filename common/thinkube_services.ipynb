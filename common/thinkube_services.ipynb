{
 "cells": [
  {
   "cell_type": "markdown",
   "metadata": {},
   "source": [
    "# Thinkube Services - Connection Examples\n",
    "\n",
    "All Thinkube services are pre-configured and ready to use.\n",
    "Service credentials are loaded from environment variables."
   ]
  },
  {
   "cell_type": "code",
   "execution_count": null,
   "metadata": {},
   "outputs": [],
   "source": [
    "import os\n",
    "from dotenv import load_dotenv\n",
    "\n",
    "# Load Thinkube environment\n",
    "load_dotenv('/home/jovyan/.thinkube_env')\n",
    "print('Thinkube environment loaded')"
   ]
  },
  {
   "cell_type": "markdown",
   "metadata": {},
   "source": [
    "## Deployed Services"
   ]
  },
  {
   "cell_type": "code",
   "execution_count": null,
   "metadata": {},
   "outputs": [],
   "source": [
    "# PostgreSQL\n",
    "import psycopg2\n",
    "\n",
    "conn = psycopg2.connect(\n",
    "    host=os.getenv('POSTGRES_HOST'),\n",
    "    port=os.getenv('POSTGRES_PORT'),\n",
    "    database=os.getenv('POSTGRES_DB'),\n",
    "    user=os.getenv('POSTGRES_USER'),\n",
    "    password=os.getenv('ADMIN_PASSWORD')\n",
    ")\n",
    "print(f'Connected to PostgreSQL at {os.getenv(\"POSTGRES_HOST\")}')"
   ]
  },
  {
   "cell_type": "code",
   "execution_count": null,
   "metadata": {},
   "outputs": [],
   "source": [
    "# Valkey (Redis)\n",
    "import redis\n",
    "\n",
    "valkey = redis.Redis(\n",
    "    host=os.getenv('VALKEY_HOST'),\n",
    "    port=int(os.getenv('VALKEY_PORT'))\n",
    ")\n",
    "print(f'Connected to Valkey at {os.getenv(\"VALKEY_HOST\")}')"
   ]
  },
  {
   "cell_type": "code",
   "execution_count": null,
   "metadata": {},
   "outputs": [],
   "source": [
    "# Qdrant Vector Database\n",
    "from qdrant_client import QdrantClient\n",
    "\n",
    "qdrant = QdrantClient(\n",
    "    host=os.getenv('QDRANT_HOST'),\n",
    "    port=int(os.getenv('QDRANT_PORT'))\n",
    ")\n",
    "print(f'Connected to Qdrant at {os.getenv(\"QDRANT_HOST\")}')"
   ]
  },
  {
   "cell_type": "code",
   "execution_count": null,
   "metadata": {},
   "outputs": [],
   "source": [
    "# OpenSearch\n",
    "from opensearchpy import OpenSearch\n",
    "\n",
    "opensearch = OpenSearch(\n",
    "    hosts=[{'host': os.getenv('OPENSEARCH_HOST'), 'port': int(os.getenv('OPENSEARCH_PORT'))}],\n",
    "    http_auth=('admin', os.getenv('ADMIN_PASSWORD')),\n",
    "    use_ssl=False\n",
    ")\n",
    "print(f'Connected to OpenSearch at {os.getenv(\"OPENSEARCH_HOST\")}')"
   ]
  },
  {
   "cell_type": "code",
   "execution_count": null,
   "metadata": {},
   "outputs": [],
   "source": [
    "# MLflow Tracking\n",
    "import mlflow\n",
    "\n",
    "mlflow.set_tracking_uri(os.getenv('MLFLOW_TRACKING_URI'))\n",
    "print(f'MLflow tracking URI: {os.getenv(\"MLFLOW_TRACKING_URI\")}')"
   ]
  },
  {
   "cell_type": "code",
   "execution_count": null,
   "metadata": {},
   "outputs": [],
   "source": [
    "# SeaweedFS (S3-compatible storage)\n",
    "import boto3\n",
    "\n",
    "s3 = boto3.client('s3', endpoint_url=os.getenv('S3_ENDPOINT'))\n",
    "print(f'Connected to SeaweedFS at {os.getenv(\"S3_ENDPOINT\")}')"
   ]
  },
  {
   "cell_type": "markdown",
   "metadata": {},
   "source": [
    "## Planned Services (clients pre-installed)"
   ]
  },
  {
   "cell_type": "code",
   "execution_count": null,
   "metadata": {},
   "outputs": [],
   "source": [
    "# Weaviate Vector Database (when deployed)\n",
    "import weaviate\n",
    "\n",
    "# weaviate_client = weaviate.Client(\n",
    "#     url=f\"http://{os.getenv('WEAVIATE_HOST')}:{os.getenv('WEAVIATE_PORT')}\"\n",
    "# )\n",
    "print('Weaviate client ready (uncomment when service is deployed)')"
   ]
  },
  {
   "cell_type": "code",
   "execution_count": null,
   "metadata": {},
   "outputs": [],
   "source": [
    "# LiteLLM Gateway (when deployed)\n",
    "import openai\n",
    "\n",
    "# openai.api_base = os.getenv('LITELLM_API_BASE')\n",
    "# response = openai.ChatCompletion.create(model=\"gpt-4\", messages=[...])\n",
    "print('LiteLLM client ready (uncomment when service is deployed)')"
   ]
  },
  {
   "cell_type": "code",
   "execution_count": null,
   "metadata": {},
   "outputs": [],
   "source": [
    "# Label Studio (when deployed)\n",
    "from label_studio_sdk import Client\n",
    "\n",
    "# ls = Client(url=os.getenv('LABEL_STUDIO_URL'), api_key=os.getenv('LABEL_STUDIO_API_KEY'))\n",
    "print('Label Studio client ready (uncomment when service is deployed)')"
   ]
  }
 ],
 "metadata": {
  "kernelspec": {
   "display_name": "Python 3",
   "language": "python",
   "name": "python3"
  },
  "language_info": {
   "name": "python",
   "version": "3.12.0"
  }
 },
 "nbformat": 4,
 "nbformat_minor": 4
}