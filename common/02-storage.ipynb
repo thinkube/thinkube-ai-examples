{
 "cells": [
  {
   "cell_type": "markdown",
   "metadata": {},
   "source": [
    "![Thinkube AI Lab](../icons/tk_full_logo.svg)\n",
    "\n",
    "# Storage Guide 📦\n",
    "\n",
    "Learn how to work with different storage types in Thinkube:\n",
    "- Personal persistent storage\n",
    "- Shared storage\n",
    "- Object storage (S3)\n",
    "- Best practices"
   ]
  },
  {
   "cell_type": "markdown",
   "metadata": {},
   "source": [
    "## Personal Persistent Storage (`~/work/`)\n",
    "\n",
    "This is YOUR space - persistent across pod restarts."
   ]
  },
  {
   "cell_type": "code",
   "execution_count": null,
   "metadata": {},
   "outputs": [],
   "source": [
    "# Create and test personal persistent storage\n",
    "from pathlib import Path\n",
    "import pandas as pd\n",
    "\n",
    "# TODO: Get work directory path\n",
    "# TODO: Create work directory if it doesn't exist\n",
    "# TODO: Create a test file with timestamp\n",
    "# TODO: Read and display test file content"
   ]
  },
  {
   "cell_type": "markdown",
   "metadata": {},
   "source": [
    "## Shared Storage (`~/shared/`)\n",
    "\n",
    "Shared across ALL users - great for datasets and collaboration.\n",
    "\n",
    "**Note**: Be respectful of space and organize your files!"
   ]
  },
  {
   "cell_type": "code",
   "execution_count": null,
   "metadata": {},
   "outputs": [],
   "source": [
    "# Explore shared storage\n",
    "from pathlib import Path\n",
    "\n",
    "# TODO: Get shared directory path\n",
    "# TODO: List items in shared storage\n",
    "# TODO: Display first 10 items with sizes\n",
    "# TODO: Handle case where shared storage is not mounted"
   ]
  },
  {
   "cell_type": "markdown",
   "metadata": {},
   "source": [
    "## Best Practice: Organize Shared Data\n",
    "\n",
    "Recommended structure for shared storage:"
   ]
  },
  {
   "cell_type": "code",
   "execution_count": null,
   "metadata": {},
   "outputs": [],
   "source": [
    "# Create recommended directory structure\n",
    "from pathlib import Path\n",
    "\n",
    "# TODO: Create datasets/ directory in shared\n",
    "# TODO: Create models/ directory in shared\n",
    "# TODO: Display created structure"
   ]
  },
  {
   "cell_type": "markdown",
   "metadata": {},
   "source": [
    "## Object Storage (S3-compatible)\n",
    "\n",
    "Best for large files and backups."
   ]
  },
  {
   "cell_type": "code",
   "execution_count": null,
   "metadata": {},
   "outputs": [],
   "source": [
    "# Setup S3 client for SeaweedFS\n",
    "import boto3\n",
    "from botocore.client import Config\n",
    "import os\n",
    "\n",
    "# TODO: Load credentials from environment\n",
    "# TODO: Create S3 client with SeaweedFS endpoint\n",
    "# TODO: Determine user's bucket name\n",
    "# TODO: Display bucket name"
   ]
  },
  {
   "cell_type": "markdown",
   "metadata": {},
   "source": [
    "## Create Your S3 Bucket"
   ]
  },
  {
   "cell_type": "code",
   "execution_count": null,
   "metadata": {},
   "outputs": [],
   "source": [
    "# Create S3 bucket\n",
    "\n",
    "# TODO: Try to create bucket\n",
    "# TODO: Handle BucketAlreadyOwnedByYou exception\n",
    "# TODO: Handle other exceptions\n",
    "# TODO: Display creation status"
   ]
  },
  {
   "cell_type": "markdown",
   "metadata": {},
   "source": [
    "## Upload Files to S3"
   ]
  },
  {
   "cell_type": "code",
   "execution_count": null,
   "metadata": {},
   "outputs": [],
   "source": [
    "# Upload test file to S3\n",
    "\n",
    "# TODO: Create test data\n",
    "# TODO: Upload to S3 with put_object\n",
    "# TODO: List objects in bucket\n",
    "# TODO: Display uploaded files with sizes"
   ]
  },
  {
   "cell_type": "markdown",
   "metadata": {},
   "source": [
    "## Download from S3"
   ]
  },
  {
   "cell_type": "code",
   "execution_count": null,
   "metadata": {},
   "outputs": [],
   "source": [
    "# Download file from S3\n",
    "\n",
    "# TODO: Get object from S3\n",
    "# TODO: Read content\n",
    "# TODO: Display downloaded content"
   ]
  },
  {
   "cell_type": "markdown",
   "metadata": {},
   "source": [
    "## Upload Large Files with Progress Bar"
   ]
  },
  {
   "cell_type": "code",
   "execution_count": null,
   "metadata": {},
   "outputs": [],
   "source": [
    "# Upload large file with progress tracking\n",
    "from tqdm import tqdm\n",
    "import os\n",
    "\n",
    "# TODO: Define upload_with_progress function\n",
    "# TODO: Create dummy large file (10 MB)\n",
    "# TODO: Upload with progress bar\n",
    "# TODO: Clean up local dummy file"
   ]
  },
  {
   "cell_type": "markdown",
   "metadata": {},
   "source": [
    "## Storage Best Practices\n",
    "\n",
    "### Use Personal Storage (`~/work/`) for:\n",
    "- ✅ Your notebooks and code\n",
    "- ✅ Small datasets (<1 GB)\n",
    "- ✅ Experiment results\n",
    "- ✅ Configuration files\n",
    "\n",
    "### Use Shared Storage (`~/shared/`) for:\n",
    "- ✅ Common datasets (e.g., MNIST, CIFAR-10)\n",
    "- ✅ Pretrained models\n",
    "- ✅ Team collaboration\n",
    "- ❌ DO NOT store large personal files here\n",
    "\n",
    "### Use S3 Storage for:\n",
    "- ✅ Large datasets (>1 GB)\n",
    "- ✅ Model checkpoints and artifacts\n",
    "- ✅ Backups\n",
    "- ✅ Long-term archival\n",
    "- ✅ Sharing with other users (via bucket policies)\n",
    "\n",
    "### Ephemeral Storage (everything else):\n",
    "- ⚠️ Temporary files only\n",
    "- ⚠️ Will be deleted on pod restart!"
   ]
  },
  {
   "cell_type": "markdown",
   "metadata": {},
   "source": [
    "## Clean Up Test Files"
   ]
  },
  {
   "cell_type": "code",
   "execution_count": null,
   "metadata": {},
   "outputs": [],
   "source": [
    "# Clean up S3 test files\n",
    "\n",
    "# TODO: Delete test/hello.txt from S3\n",
    "# TODO: Delete data/large_file.bin from S3\n",
    "# TODO: Display cleanup status\n",
    "\n",
    "# Note: We keep test_persistence.txt in ~/work/ to demonstrate persistence"
   ]
  }
 ],
 "metadata": {
  "kernelspec": {
   "display_name": "Python 3",
   "language": "python",
   "name": "python3"
  },
  "language_info": {
   "codemirror_mode": {
    "name": "ipython",
    "version": 3
   },
   "file_extension": ".py",
   "mimetype": "text/x-python",
   "name": "python",
   "nbconvert_exporter": "python",
   "pygments_lexer": "ipython3",
   "version": "3.10.0"
  }
 },
 "nbformat": 4,
 "nbformat_minor": 4
}
