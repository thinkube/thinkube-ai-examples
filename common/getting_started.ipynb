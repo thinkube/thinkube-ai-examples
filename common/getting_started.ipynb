{
 "cells": [
  {
   "cell_type": "markdown",
   "metadata": {},
   "source": [
    "# Getting Started with Thinkube Jupyter\n",
    "\n",
    "Welcome to the Thinkube Jupyter environment! This notebook will guide you through the basics of working with Thinkube."
   ]
  },
  {
   "cell_type": "markdown",
   "metadata": {},
   "source": [
    "## Environment Overview\n",
    "\n",
    "Your Jupyter environment includes:\n",
    "- **Persistent Storage**: `/home/jovyan/thinkube/notebooks/` (100GB)\n",
    "- **Shared Datasets**: `/home/jovyan/thinkube/datasets/` (500GB)\n",
    "- **Shared Models**: `/home/jovyan/thinkube/models/` (200GB)\n",
    "- **Read-only Examples**: `/home/jovyan/thinkube/notebooks/templates/`\n",
    "- **Editable Copies**: `/home/jovyan/thinkube/notebooks/examples/`"
   ]
  },
  {
   "cell_type": "code",
   "execution_count": null,
   "metadata": {},
   "outputs": [],
   "source": [
    "import os\n",
    "import sys\n",
    "\n",
    "print(f\"Python version: {sys.version}\")\n",
    "print(f\"Working directory: {os.getcwd()}\")"
   ]
  },
  {
   "cell_type": "markdown",
   "metadata": {},
   "source": [
    "## Thinkube Environment Variables\n",
    "\n",
    "All Thinkube services are pre-configured via environment variables loaded from `.thinkube_env`."
   ]
  },
  {
   "cell_type": "code",
   "execution_count": null,
   "metadata": {},
   "outputs": [],
   "source": [
    "from dotenv import load_dotenv\n",
    "\n",
    "# Load Thinkube environment\n",
    "load_dotenv('/home/jovyan/.thinkube_env')\n",
    "\n",
    "# Display available services\n",
    "thinkube_vars = {k: v for k, v in os.environ.items() if 'POSTGRES' in k or 'VALKEY' in k or 'QDRANT' in k}\n",
    "for key, value in sorted(thinkube_vars.items()):\n",
    "    # Mask passwords\n",
    "    if 'PASSWORD' in key:\n",
    "        value = '***'\n",
    "    print(f\"{key}: {value}\")"
   ]
  },
  {
   "cell_type": "markdown",
   "metadata": {},
   "source": [
    "## Available Examples\n",
    "\n",
    "Explore other example notebooks:\n",
    "- **thinkube_services.ipynb** - Connect to Thinkube services\n",
    "- **storage_guide.ipynb** - Using persistent storage\n",
    "- **Image-specific examples** in `/home/jovyan/thinkube/notebooks/examples/`"
   ]
  },
  {
   "cell_type": "markdown",
   "metadata": {},
   "source": [
    "## Next Steps\n",
    "\n",
    "1. Check out the service connection examples in `thinkube_services.ipynb`\n",
    "2. Learn about persistent storage in `storage_guide.ipynb`\n",
    "3. Explore image-specific examples for your use case\n",
    "4. Start building your own notebooks!"
   ]
  }
 ],
 "metadata": {
  "kernelspec": {
   "display_name": "Python 3",
   "language": "python",
   "name": "python3"
  },
  "language_info": {
   "name": "python",
   "version": "3.12.0"
  }
 },
 "nbformat": 4,
 "nbformat_minor": 4
}
