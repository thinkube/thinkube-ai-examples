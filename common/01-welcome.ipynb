{
 "cells": [
  {
   "cell_type": "markdown",
   "metadata": {},
   "source": [
    "![Thinkube AI Lab](../icons/tk_full_logo.svg)\n",
    "\n",
    "# Welcome to Thinkube AI Lab! 🚀\n",
    "\n",
    "This notebook introduces you to the Thinkube platform and verifies your environment is configured correctly.\n",
    "\n",
    "## What you'll learn:\n",
    "- Platform architecture and services\n",
    "- Environment variable management\n",
    "- Basic service connectivity tests\n",
    "- Directory structure and storage"
   ]
  },
  {
   "cell_type": "markdown",
   "metadata": {},
   "source": [
    "## Thinkube Architecture\n",
    "\n",
    "Thinkube is a Kubernetes-based AI development platform with:\n",
    "\n",
    "### Core Services:\n",
    "- **Harbor**: Container registry\n",
    "- **Keycloak**: Authentication\n",
    "- **PostgreSQL**: Relational database\n",
    "- **SeaweedFS**: Object storage (S3-compatible)\n",
    "- **Gitea**: Git repository hosting\n",
    "- **ArgoCD**: GitOps deployment\n",
    "\n",
    "### AI/ML Services:\n",
    "- **LiteLLM**: LLM gateway (OpenAI-compatible API)\n",
    "- **Qdrant**: Vector database for embeddings\n",
    "- **Langfuse**: LLM observability and tracing\n",
    "- **MLflow**: Experiment tracking\n",
    "- **NATS**: Message broker for agents\n",
    "- **Valkey**: In-memory cache (Redis-compatible)"
   ]
  },
  {
   "cell_type": "markdown",
   "metadata": {},
   "source": [
    "## Loading Platform Configuration\n",
    "\n",
    "Thinkube provides environment variables for all services via `.thinkube_env`"
   ]
  },
  {
   "cell_type": "code",
   "execution_count": null,
   "metadata": {},
   "outputs": [],
   "source": [
    "# Load environment variables from .thinkube_env\n",
    "import os\n",
    "from pathlib import Path\n",
    "\n",
    "# TODO: Load environment from ~/.thinkube_env\n",
    "# TODO: Parse key=value lines\n",
    "# TODO: Set environment variables\n",
    "# TODO: Report number of variables loaded"
   ]
  },
  {
   "cell_type": "markdown",
   "metadata": {},
   "source": [
    "## Available Services\n",
    "\n",
    "Let's check what services are available in your environment:"
   ]
  },
  {
   "cell_type": "code",
   "execution_count": null,
   "metadata": {},
   "outputs": [],
   "source": [
    "# Display available services from environment variables\n",
    "import os\n",
    "\n",
    "# TODO: Create dictionary of service names to env vars\n",
    "# TODO: Check each service URL/host\n",
    "# TODO: Display with status indicators (✅/❌)"
   ]
  },
  {
   "cell_type": "markdown",
   "metadata": {},
   "source": [
    "## Test Database Connection\n",
    "\n",
    "Let's verify we can connect to PostgreSQL:"
   ]
  },
  {
   "cell_type": "code",
   "execution_count": null,
   "metadata": {},
   "outputs": [],
   "source": [
    "# Test PostgreSQL connection\n",
    "import psycopg2\n",
    "from psycopg2 import Error\n",
    "\n",
    "# TODO: Build connection string from env vars\n",
    "# TODO: Connect to PostgreSQL\n",
    "# TODO: Execute SELECT version()\n",
    "# TODO: Display connection status and version"
   ]
  },
  {
   "cell_type": "markdown",
   "metadata": {},
   "source": [
    "## Test Object Storage\n",
    "\n",
    "SeaweedFS provides S3-compatible object storage:"
   ]
  },
  {
   "cell_type": "code",
   "execution_count": null,
   "metadata": {},
   "outputs": [],
   "source": [
    "# Test S3 (SeaweedFS) connection\n",
    "import boto3\n",
    "from botocore.client import Config\n",
    "\n",
    "# TODO: Create S3 client with SeaweedFS endpoint\n",
    "# TODO: List available buckets\n",
    "# TODO: Display connection status and bucket count"
   ]
  },
  {
   "cell_type": "markdown",
   "metadata": {},
   "source": [
    "## Directory Structure\n",
    "\n",
    "Your home directory has the following structure:\n",
    "\n",
    "```\n",
    "~/\n",
    "├── work/              # Your personal workspace (persistent)\n",
    "├── shared/            # Shared across all users (persistent)\n",
    "├── thinkube/\n",
    "│   └── notebooks/     # Notebook storage\n",
    "└── .thinkube_env      # Platform configuration\n",
    "```"
   ]
  },
  {
   "cell_type": "code",
   "execution_count": null,
   "metadata": {},
   "outputs": [],
   "source": [
    "# Check directory structure\n",
    "import os\n",
    "from pathlib import Path\n",
    "\n",
    "# TODO: Get home directory\n",
    "# TODO: Check existence of work/, shared/, thinkube/\n",
    "# TODO: Display with status indicators"
   ]
  },
  {
   "cell_type": "markdown",
   "metadata": {},
   "source": [
    "## Storage Types\n",
    "\n",
    "Thinkube provides different storage options:\n",
    "\n",
    "### 1. Ephemeral Storage\n",
    "- Location: `/home/jovyan` (except work/ and shared/)\n",
    "- Persistence: **Lost when pod restarts**\n",
    "- Use for: Temporary files, cache\n",
    "\n",
    "### 2. Persistent User Storage\n",
    "- Location: `~/work/`\n",
    "- Persistence: **Persistent across restarts**\n",
    "- Use for: Your projects, notebooks, data\n",
    "\n",
    "### 3. Shared Storage\n",
    "- Location: `~/shared/`\n",
    "- Persistence: **Persistent and shared across all users**\n",
    "- Use for: Datasets, models, collaborative work\n",
    "\n",
    "### 4. Object Storage (S3)\n",
    "- Access: Via boto3 SDK\n",
    "- Persistence: **Persistent, large-scale**\n",
    "- Use for: Large datasets, model artifacts, backups"
   ]
  },
  {
   "cell_type": "markdown",
   "metadata": {},
   "source": [
    "## Next Steps\n",
    "\n",
    "Great! Your environment is set up. Continue with:\n",
    "\n",
    "1. **02-storage.ipynb** - Learn about storage options in detail\n",
    "2. **03-services.ipynb** - Deep dive into service integrations\n",
    "3. **04-mlops.ipynb** - MLflow and Langfuse basics\n",
    "\n",
    "For agent development, check the `agent-dev/` directory!\n",
    "\n",
    "## Getting Help\n",
    "\n",
    "- Documentation: https://docs.thinkube.com\n",
    "- Discord: https://discord.gg/thinkube\n",
    "- GitHub: https://github.com/thinkube/thinkube"
   ]
  }
 ],
 "metadata": {
  "kernelspec": {
   "display_name": "Python 3",
   "language": "python",
   "name": "python3"
  },
  "language_info": {
   "codemirror_mode": {
    "name": "ipython",
    "version": 3
   },
   "file_extension": ".py",
   "mimetype": "text/x-python",
   "name": "python",
   "nbconvert_exporter": "python",
   "pygments_lexer": "ipython3",
   "version": "3.10.0"
  }
 },
 "nbformat": 4,
 "nbformat_minor": 4
}
