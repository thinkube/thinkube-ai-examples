{
 "cells": [
  {
   "cell_type": "markdown",
   "metadata": {},
   "source": [
    "![Thinkube AI Lab](../icons/tk_full_logo.svg)\n",
    "\n",
    "# PyTorch GPU Training 🔥\n",
    "\n",
    "Train neural networks efficiently on GPU:\n",
    "- Load and prepare datasets\n",
    "- Define model architectures\n",
    "- GPU-accelerated training\n",
    "- Track experiments with MLflow\n",
    "- Save and load checkpoints"
   ]
  },
  {
   "cell_type": "markdown",
   "metadata": {},
   "source": [
    "## Setup and Imports"
   ]
  },
  {
   "cell_type": "code",
   "execution_count": null,
   "metadata": {},
   "outputs": [],
   "source": [
    "# Import libraries\n",
    "import torch\n",
    "import torch.nn as nn\n",
    "import torch.optim as optim\n",
    "from torch.utils.data import DataLoader\n",
    "from torchvision import datasets, transforms\n",
    "import mlflow\n",
    "import os\n",
    "\n",
    "# TODO: Set device (cuda if available)\n",
    "# TODO: Set random seeds for reproducibility\n",
    "# TODO: Display PyTorch and CUDA versions"
   ]
  },
  {
   "cell_type": "markdown",
   "metadata": {},
   "source": [
    "## Load and Prepare Dataset\n",
    "\n",
    "Using CIFAR-10 for this example:"
   ]
  },
  {
   "cell_type": "code",
   "execution_count": null,
   "metadata": {},
   "outputs": [],
   "source": [
    "# Prepare CIFAR-10 dataset\n",
    "\n",
    "# TODO: Define transforms (normalize, augmentation)\n",
    "# TODO: Load training dataset\n",
    "# TODO: Load test dataset\n",
    "# TODO: Create DataLoaders with pin_memory=True\n",
    "# TODO: Set num_workers for faster loading\n",
    "# TODO: Display dataset statistics"
   ]
  },
  {
   "cell_type": "markdown",
   "metadata": {},
   "source": [
    "## Define Model Architecture\n",
    "\n",
    "Simple CNN for image classification:"
   ]
  },
  {
   "cell_type": "code",
   "execution_count": null,
   "metadata": {},
   "outputs": [],
   "source": [
    "# Define CNN model\n",
    "\n",
    "# TODO: Create CNN class with conv layers\n",
    "# TODO: Add batch normalization\n",
    "# TODO: Add dropout for regularization\n",
    "# TODO: Define forward pass\n",
    "# TODO: Instantiate model\n",
    "# TODO: Move model to GPU\n",
    "# TODO: Display model summary"
   ]
  },
  {
   "cell_type": "markdown",
   "metadata": {},
   "source": [
    "## Configure Training\n",
    "\n",
    "Loss function and optimizer:"
   ]
  },
  {
   "cell_type": "code",
   "execution_count": null,
   "metadata": {},
   "outputs": [],
   "source": [
    "# Setup training components\n",
    "\n",
    "# TODO: Define loss function (CrossEntropyLoss)\n",
    "# TODO: Define optimizer (Adam or SGD)\n",
    "# TODO: Define learning rate scheduler\n",
    "# TODO: Set hyperparameters (epochs, lr, batch_size)\n",
    "# TODO: Display training configuration"
   ]
  },
  {
   "cell_type": "markdown",
   "metadata": {},
   "source": [
    "## MLflow Experiment Setup\n",
    "\n",
    "Track experiments with MLflow:"
   ]
  },
  {
   "cell_type": "code",
   "execution_count": null,
   "metadata": {},
   "outputs": [],
   "source": [
    "# Setup MLflow tracking\n",
    "\n",
    "# TODO: Set MLflow tracking URI from environment\n",
    "# TODO: Set experiment name\n",
    "# TODO: Start MLflow run\n",
    "# TODO: Log hyperparameters\n",
    "# TODO: Log model architecture details\n",
    "# TODO: Display run ID"
   ]
  },
  {
   "cell_type": "markdown",
   "metadata": {},
   "source": [
    "## Training Loop\n",
    "\n",
    "Train the model on GPU:"
   ]
  },
  {
   "cell_type": "code",
   "execution_count": null,
   "metadata": {},
   "outputs": [],
   "source": [
    "# Training loop\n",
    "from tqdm import tqdm\n",
    "\n",
    "# TODO: Loop through epochs\n",
    "# TODO: For each batch:\n",
    "#       - Move data to GPU\n",
    "#       - Forward pass\n",
    "#       - Calculate loss\n",
    "#       - Backward pass\n",
    "#       - Optimizer step\n",
    "#       - Track metrics\n",
    "# TODO: Log metrics to MLflow each epoch\n",
    "# TODO: Run validation after each epoch\n",
    "# TODO: Update learning rate scheduler\n",
    "# TODO: Display progress bar"
   ]
  },
  {
   "cell_type": "markdown",
   "metadata": {},
   "source": [
    "## Validation\n",
    "\n",
    "Evaluate on test set:"
   ]
  },
  {
   "cell_type": "code",
   "execution_count": null,
   "metadata": {},
   "outputs": [],
   "source": [
    "# Validation function\n",
    "\n",
    "# TODO: Set model to eval mode\n",
    "# TODO: Disable gradient computation with torch.no_grad()\n",
    "# TODO: Loop through test data\n",
    "# TODO: Calculate accuracy and loss\n",
    "# TODO: Log validation metrics to MLflow\n",
    "# TODO: Return to train mode"
   ]
  },
  {
   "cell_type": "markdown",
   "metadata": {},
   "source": [
    "## Save Checkpoints\n",
    "\n",
    "Save model weights and state:"
   ]
  },
  {
   "cell_type": "code",
   "execution_count": null,
   "metadata": {},
   "outputs": [],
   "source": [
    "# Save model checkpoint\n",
    "\n",
    "# TODO: Create checkpoint dictionary\n",
    "#       - model state_dict\n",
    "#       - optimizer state_dict\n",
    "#       - epoch number\n",
    "#       - best accuracy\n",
    "# TODO: Save to file\n",
    "# TODO: Log model artifact to MLflow\n",
    "# TODO: Display save location"
   ]
  },
  {
   "cell_type": "markdown",
   "metadata": {},
   "source": [
    "## Load Checkpoint\n",
    "\n",
    "Resume training from checkpoint:"
   ]
  },
  {
   "cell_type": "code",
   "execution_count": null,
   "metadata": {},
   "outputs": [],
   "source": [
    "# Load checkpoint\n",
    "\n",
    "# TODO: Load checkpoint file\n",
    "# TODO: Restore model state\n",
    "# TODO: Restore optimizer state\n",
    "# TODO: Get epoch number and metrics\n",
    "# TODO: Display loaded checkpoint info"
   ]
  },
  {
   "cell_type": "markdown",
   "metadata": {},
   "source": [
    "## Monitor GPU Utilization\n",
    "\n",
    "Track GPU usage during training:"
   ]
  },
  {
   "cell_type": "code",
   "execution_count": null,
   "metadata": {},
   "outputs": [],
   "source": [
    "# GPU utilization monitoring\n",
    "\n",
    "# TODO: Get GPU memory allocated\n",
    "# TODO: Get GPU memory reserved  \n",
    "# TODO: Calculate utilization percentage\n",
    "# TODO: Plot memory usage over time\n",
    "# TODO: Log to MLflow"
   ]
  },
  {
   "cell_type": "markdown",
   "metadata": {},
   "source": [
    "## Inference\n",
    "\n",
    "Use trained model for predictions:"
   ]
  },
  {
   "cell_type": "code",
   "execution_count": null,
   "metadata": {},
   "outputs": [],
   "source": [
    "# Inference on sample images\n",
    "\n",
    "# TODO: Load sample images\n",
    "# TODO: Preprocess images\n",
    "# TODO: Run model in eval mode\n",
    "# TODO: Get predictions\n",
    "# TODO: Display results with confidence scores\n",
    "# TODO: Visualize predictions"
   ]
  },
  {
   "cell_type": "markdown",
   "metadata": {},
   "source": [
    "## Best Practices\n",
    "\n",
    "- ✅ Use DataLoader with pin_memory and multiple workers\n",
    "- ✅ Move data to GPU only when needed\n",
    "- ✅ Use torch.no_grad() for validation\n",
    "- ✅ Clear gradients with optimizer.zero_grad()\n",
    "- ✅ Save checkpoints regularly\n",
    "- ✅ Track experiments with MLflow\n",
    "- ✅ Monitor GPU memory usage\n",
    "- ✅ Use mixed precision for larger models (next notebook)"
   ]
  },
  {
   "cell_type": "markdown",
   "metadata": {},
   "source": [
    "## Clean Up"
   ]
  },
  {
   "cell_type": "code",
   "execution_count": null,
   "metadata": {},
   "outputs": [],
   "source": [
    "# Clean up GPU memory\n",
    "\n",
    "# TODO: Delete model and data\n",
    "# TODO: Clear CUDA cache\n",
    "# TODO: End MLflow run"
   ]
  },
  {
   "cell_type": "markdown",
   "metadata": {},
   "source": [
    "## Next Steps\n",
    "\n",
    "Continue with:\n",
    "- **03-distributed-training.ipynb** - Multi-GPU training with DDP\n",
    "- **04-transformers-training.ipynb** - Train transformer models\n",
    "- **05-mlops-integration.ipynb** - Complete MLOps workflow"
   ]
  }
 ],
 "metadata": {
  "kernelspec": {
   "display_name": "Python 3",
   "language": "python",
   "name": "python3"
  },
  "language_info": {
   "codemirror_mode": {
    "name": "ipython",
    "version": 3
   },
   "file_extension": ".py",
   "mimetype": "text/x-python",
   "name": "python",
   "nbconvert_exporter": "python",
   "pygments_lexer": "ipython3",
   "version": "3.10.0"
  }
 },
 "nbformat": 4,
 "nbformat_minor": 4
}
